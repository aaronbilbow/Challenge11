{
 "cells": [
  {
   "cell_type": "markdown",
   "metadata": {},
   "source": [
    "# Module 12 Challenge\n",
    "## Deliverable 1: Scrape Titles and Preview Text from Mars News"
   ]
  },
  {
   "cell_type": "code",
   "execution_count": 1,
   "metadata": {
    "tags": []
   },
   "outputs": [],
   "source": [
    "# Import Splinter and BeautifulSoup\n",
    "from splinter import Browser\n",
    "from bs4 import BeautifulSoup\n",
    "import json"
   ]
  },
  {
   "cell_type": "code",
   "execution_count": 2,
   "metadata": {
    "scrolled": true,
    "tags": []
   },
   "outputs": [],
   "source": [
    "browser = Browser('chrome')"
   ]
  },
  {
   "cell_type": "markdown",
   "metadata": {},
   "source": [
    "### Step 1: Visit the Website\n",
    "\n",
    "1. Use automated browsing to visit the [Mars news site](https://static.bc-edx.com/data/web/mars_news/index.html). Inspect the page to identify which elements to scrape.\n",
    "\n",
    "      > **Hint** To identify which elements to scrape, you might want to inspect the page by using Chrome DevTools."
   ]
  },
  {
   "cell_type": "code",
   "execution_count": 3,
   "metadata": {
    "tags": []
   },
   "outputs": [],
   "source": [
    "# Visit the Mars news site\n"
   ]
  },
  {
   "cell_type": "code",
   "execution_count": 4,
   "metadata": {
    "tags": []
   },
   "outputs": [],
   "source": [
    "url = 'https://static.bc-edx.com/data/web/mars_news/index.html'\n",
    "\n",
    "    # Visit the Mars news website\n",
    "browser.visit(url)"
   ]
  },
  {
   "cell_type": "markdown",
   "metadata": {},
   "source": [
    "### Step 2: Scrape the Website\n",
    "\n",
    "Create a Beautiful Soup object and use it to extract text elements from the website."
   ]
  },
  {
   "cell_type": "code",
   "execution_count": 5,
   "metadata": {
    "tags": []
   },
   "outputs": [],
   "source": [
    "# Create a Beautiful Soup object\n",
    "html = browser.html\n",
    "soup = BeautifulSoup(html, 'html.parser')\n"
   ]
  },
  {
   "cell_type": "code",
   "execution_count": 5,
   "metadata": {},
   "outputs": [],
   "source": [
    "# Extract all the text elements\n"
   ]
  },
  {
   "cell_type": "code",
   "execution_count": 6,
   "metadata": {
    "tags": []
   },
   "outputs": [
    {
     "name": "stdout",
     "output_type": "stream",
     "text": [
      "MARS Planet ScienceExploration ProgramThe Red PlanetThe ProgramNews & EventsMultimediaMissionsMoreNewsLatestAll CategoriesNovember 9, 2022NASA's MAVEN Observes Martian Light Show Caused by Major Solar StormFor the first time in its eight years orbiting Mars, NASA’s MAVEN mission witnessed two different types of ultraviolet aurorae simultaneously, the result of solar storms that began on Aug. 27.November 1, 2022NASA Prepares to Say 'Farewell' to InSight SpacecraftA closer look at what goes into wrapping up the mission as the spacecraft’s power supply continues to dwindle.October 28, 2022NASA and ESA Agree on Next Steps to Return Mars Samples to EarthThe agency’s Perseverance rover will establish the first sample depot on Mars.October 27, 2022NASA's InSight Lander Detects Stunning Meteoroid Impact on MarsThe agency’s lander felt the ground shake during the impact while cameras aboard the Mars Reconnaissance Orbiter spotted the yawning new crater from space.October 21, 2022NASA To Host Briefing on InSight, Mars Reconnaissance Orbiter FindingsScientists from two Mars missions will discuss how they combined images and data for a major finding on the Red Planet.October 20, 2022Why NASA Is Trying To Crash Land on MarsLike a car’s crumple zone, the experimental SHIELD lander is designed to absorb a hard impact.October 19, 2022Curiosity Mars Rover Reaches Long-Awaited Salty RegionAfter years of climbing, the Mars rover has arrived at a special region believed to have formed as Mars’ climate was drying.October 12, 2022Mars Mission Shields Up for TestsProtecting Mars Sample Return spacecraft from micrometeorites requires high-caliber work.October 7, 2022NASA's InSight Waits Out Dust StormInSight’s team is taking steps to help the solar-powered lander continue operating for as long as possible.September 19, 2022NASA's InSight 'Hears' Its First Meteoroid Impacts on MarsThe Mars lander’s seismometer has picked up vibrations from four separate impacts in the past two years.September 15, 2022NASA's Perseverance Rover Investigates Geologically Rich Mars TerrainThe latest findings provide greater detail on a region of the Red Planet that has a watery past and is yielding promising samples for the NASA-ESA Mars Sample Return campaign.September 12, 2022NASA to Host Briefing on Perseverance Mars Rover Mission OperationsMembers of the mission will discuss the rover’s activities as it gathers samples in an ancient river delta.August 25, 2022NASA's Perseverance Makes New Discoveries in Mars' Jezero CraterThe rover found that Jezero Crater’s floor is made up of volcanic rocks that have interacted with water.August 5, 202210 Years Since Landing, NASA's Curiosity Mars Rover Still Has DriveDespite signs of wear, the intrepid spacecraft is about to start an exciting new chapter of its mission as it climbs a Martian mountain.August 4, 2022SAM's Top 5 Discoveries Aboard NASA's Curiosity Rover at Mars“Selfie” of the Curiosity rover with inset showing the SAM instrument prior to installation on the rover.MoreYou Might Also LikeNASA Marks 25 Years Since Pathfinder Touched Down on MarsNASA's Perseverance Rover Captures Video of Solar Eclipse on MarsNASA, UAE Mars Missions Agree to Share Science DataThe Red PlanetDashboardScience GoalsThe PlanetThe ProgramMission StatementAbout the ProgramOrganization Why Mars?MultimediaImagesVideosMore ResourcesMissionsPastPresentFutureImages and news content extracted from NASA'sMars Newswebsite on November 9, 2022.Images used in accordance with theJPL Image Use Policy.This site is operated by edX Boot Camps LLC for educational purposes only.This is not a website endorsed by NASA. This website is intended only for internal academic purposes.\n",
      "MARS Planet ScienceExploration ProgramThe Red PlanetThe ProgramNews & EventsMultimediaMissionsMoreNewsLatestAll CategoriesNovember 9, 2022NASA's MAVEN Observes Martian Light Show Caused by Major Solar StormFor the first time in its eight years orbiting Mars, NASA’s MAVEN mission witnessed two different types of ultraviolet aurorae simultaneously, the result of solar storms that began on Aug. 27.November 1, 2022NASA Prepares to Say 'Farewell' to InSight SpacecraftA closer look at what goes into wrapping up the mission as the spacecraft’s power supply continues to dwindle.October 28, 2022NASA and ESA Agree on Next Steps to Return Mars Samples to EarthThe agency’s Perseverance rover will establish the first sample depot on Mars.October 27, 2022NASA's InSight Lander Detects Stunning Meteoroid Impact on MarsThe agency’s lander felt the ground shake during the impact while cameras aboard the Mars Reconnaissance Orbiter spotted the yawning new crater from space.October 21, 2022NASA To Host Briefing on InSight, Mars Reconnaissance Orbiter FindingsScientists from two Mars missions will discuss how they combined images and data for a major finding on the Red Planet.October 20, 2022Why NASA Is Trying To Crash Land on MarsLike a car’s crumple zone, the experimental SHIELD lander is designed to absorb a hard impact.October 19, 2022Curiosity Mars Rover Reaches Long-Awaited Salty RegionAfter years of climbing, the Mars rover has arrived at a special region believed to have formed as Mars’ climate was drying.October 12, 2022Mars Mission Shields Up for TestsProtecting Mars Sample Return spacecraft from micrometeorites requires high-caliber work.October 7, 2022NASA's InSight Waits Out Dust StormInSight’s team is taking steps to help the solar-powered lander continue operating for as long as possible.September 19, 2022NASA's InSight 'Hears' Its First Meteoroid Impacts on MarsThe Mars lander’s seismometer has picked up vibrations from four separate impacts in the past two years.September 15, 2022NASA's Perseverance Rover Investigates Geologically Rich Mars TerrainThe latest findings provide greater detail on a region of the Red Planet that has a watery past and is yielding promising samples for the NASA-ESA Mars Sample Return campaign.September 12, 2022NASA to Host Briefing on Perseverance Mars Rover Mission OperationsMembers of the mission will discuss the rover’s activities as it gathers samples in an ancient river delta.August 25, 2022NASA's Perseverance Makes New Discoveries in Mars' Jezero CraterThe rover found that Jezero Crater’s floor is made up of volcanic rocks that have interacted with water.August 5, 202210 Years Since Landing, NASA's Curiosity Mars Rover Still Has DriveDespite signs of wear, the intrepid spacecraft is about to start an exciting new chapter of its mission as it climbs a Martian mountain.August 4, 2022SAM's Top 5 Discoveries Aboard NASA's Curiosity Rover at Mars“Selfie” of the Curiosity rover with inset showing the SAM instrument prior to installation on the rover.MoreYou Might Also LikeNASA Marks 25 Years Since Pathfinder Touched Down on MarsNASA's Perseverance Rover Captures Video of Solar Eclipse on MarsNASA, UAE Mars Missions Agree to Share Science DataThe Red PlanetDashboardScience GoalsThe PlanetThe ProgramMission StatementAbout the ProgramOrganization Why Mars?MultimediaImagesVideosMore ResourcesMissionsPastPresentFutureImages and news content extracted from NASA'sMars Newswebsite on November 9, 2022.Images used in accordance with theJPL Image Use Policy.This site is operated by edX Boot Camps LLC for educational purposes only.This is not a website endorsed by NASA. This website is intended only for internal academic purposes.\n",
      "MARS Planet ScienceExploration ProgramThe Red PlanetThe ProgramNews & EventsMultimediaMissionsMore\n",
      "MARS Planet ScienceExploration Program\n",
      "MARS Planet Science\n",
      "Exploration Program\n",
      "The Red PlanetThe ProgramNews & EventsMultimediaMissionsMore\n",
      "The Red Planet\n",
      "The Red Planet\n",
      "The Program\n",
      "The Program\n",
      "News & Events\n",
      "News & Events\n",
      "Multimedia\n",
      "Multimedia\n",
      "Missions\n",
      "Missions\n",
      "More\n",
      "More\n",
      "NewsLatestAll Categories\n",
      "News\n",
      "LatestAll Categories\n",
      "LatestAll Categories\n",
      "Latest\n",
      "All Categories\n",
      "November 9, 2022NASA's MAVEN Observes Martian Light Show Caused by Major Solar StormFor the first time in its eight years orbiting Mars, NASA’s MAVEN mission witnessed two different types of ultraviolet aurorae simultaneously, the result of solar storms that began on Aug. 27.November 1, 2022NASA Prepares to Say 'Farewell' to InSight SpacecraftA closer look at what goes into wrapping up the mission as the spacecraft’s power supply continues to dwindle.October 28, 2022NASA and ESA Agree on Next Steps to Return Mars Samples to EarthThe agency’s Perseverance rover will establish the first sample depot on Mars.October 27, 2022NASA's InSight Lander Detects Stunning Meteoroid Impact on MarsThe agency’s lander felt the ground shake during the impact while cameras aboard the Mars Reconnaissance Orbiter spotted the yawning new crater from space.October 21, 2022NASA To Host Briefing on InSight, Mars Reconnaissance Orbiter FindingsScientists from two Mars missions will discuss how they combined images and data for a major finding on the Red Planet.October 20, 2022Why NASA Is Trying To Crash Land on MarsLike a car’s crumple zone, the experimental SHIELD lander is designed to absorb a hard impact.October 19, 2022Curiosity Mars Rover Reaches Long-Awaited Salty RegionAfter years of climbing, the Mars rover has arrived at a special region believed to have formed as Mars’ climate was drying.October 12, 2022Mars Mission Shields Up for TestsProtecting Mars Sample Return spacecraft from micrometeorites requires high-caliber work.October 7, 2022NASA's InSight Waits Out Dust StormInSight’s team is taking steps to help the solar-powered lander continue operating for as long as possible.September 19, 2022NASA's InSight 'Hears' Its First Meteoroid Impacts on MarsThe Mars lander’s seismometer has picked up vibrations from four separate impacts in the past two years.September 15, 2022NASA's Perseverance Rover Investigates Geologically Rich Mars TerrainThe latest findings provide greater detail on a region of the Red Planet that has a watery past and is yielding promising samples for the NASA-ESA Mars Sample Return campaign.September 12, 2022NASA to Host Briefing on Perseverance Mars Rover Mission OperationsMembers of the mission will discuss the rover’s activities as it gathers samples in an ancient river delta.August 25, 2022NASA's Perseverance Makes New Discoveries in Mars' Jezero CraterThe rover found that Jezero Crater’s floor is made up of volcanic rocks that have interacted with water.August 5, 202210 Years Since Landing, NASA's Curiosity Mars Rover Still Has DriveDespite signs of wear, the intrepid spacecraft is about to start an exciting new chapter of its mission as it climbs a Martian mountain.August 4, 2022SAM's Top 5 Discoveries Aboard NASA's Curiosity Rover at Mars“Selfie” of the Curiosity rover with inset showing the SAM instrument prior to installation on the rover.\n",
      "November 9, 2022NASA's MAVEN Observes Martian Light Show Caused by Major Solar StormFor the first time in its eight years orbiting Mars, NASA’s MAVEN mission witnessed two different types of ultraviolet aurorae simultaneously, the result of solar storms that began on Aug. 27.\n",
      "November 9, 2022NASA's MAVEN Observes Martian Light Show Caused by Major Solar StormFor the first time in its eight years orbiting Mars, NASA’s MAVEN mission witnessed two different types of ultraviolet aurorae simultaneously, the result of solar storms that began on Aug. 27.\n",
      "November 9, 2022NASA's MAVEN Observes Martian Light Show Caused by Major Solar StormFor the first time in its eight years orbiting Mars, NASA’s MAVEN mission witnessed two different types of ultraviolet aurorae simultaneously, the result of solar storms that began on Aug. 27.\n",
      "November 9, 2022NASA's MAVEN Observes Martian Light Show Caused by Major Solar StormFor the first time in its eight years orbiting Mars, NASA’s MAVEN mission witnessed two different types of ultraviolet aurorae simultaneously, the result of solar storms that began on Aug. 27.\n",
      "November 9, 2022\n",
      "NASA's MAVEN Observes Martian Light Show Caused by Major Solar Storm\n",
      "For the first time in its eight years orbiting Mars, NASA’s MAVEN mission witnessed two different types of ultraviolet aurorae simultaneously, the result of solar storms that began on Aug. 27.\n",
      "November 1, 2022NASA Prepares to Say 'Farewell' to InSight SpacecraftA closer look at what goes into wrapping up the mission as the spacecraft’s power supply continues to dwindle.\n",
      "November 1, 2022NASA Prepares to Say 'Farewell' to InSight SpacecraftA closer look at what goes into wrapping up the mission as the spacecraft’s power supply continues to dwindle.\n",
      "November 1, 2022NASA Prepares to Say 'Farewell' to InSight SpacecraftA closer look at what goes into wrapping up the mission as the spacecraft’s power supply continues to dwindle.\n",
      "November 1, 2022NASA Prepares to Say 'Farewell' to InSight SpacecraftA closer look at what goes into wrapping up the mission as the spacecraft’s power supply continues to dwindle.\n",
      "November 1, 2022\n",
      "NASA Prepares to Say 'Farewell' to InSight Spacecraft\n",
      "A closer look at what goes into wrapping up the mission as the spacecraft’s power supply continues to dwindle.\n",
      "October 28, 2022NASA and ESA Agree on Next Steps to Return Mars Samples to EarthThe agency’s Perseverance rover will establish the first sample depot on Mars.\n",
      "October 28, 2022NASA and ESA Agree on Next Steps to Return Mars Samples to EarthThe agency’s Perseverance rover will establish the first sample depot on Mars.\n",
      "October 28, 2022NASA and ESA Agree on Next Steps to Return Mars Samples to EarthThe agency’s Perseverance rover will establish the first sample depot on Mars.\n",
      "October 28, 2022NASA and ESA Agree on Next Steps to Return Mars Samples to EarthThe agency’s Perseverance rover will establish the first sample depot on Mars.\n",
      "October 28, 2022\n",
      "NASA and ESA Agree on Next Steps to Return Mars Samples to Earth\n",
      "The agency’s Perseverance rover will establish the first sample depot on Mars.\n",
      "October 27, 2022NASA's InSight Lander Detects Stunning Meteoroid Impact on MarsThe agency’s lander felt the ground shake during the impact while cameras aboard the Mars Reconnaissance Orbiter spotted the yawning new crater from space.\n",
      "October 27, 2022NASA's InSight Lander Detects Stunning Meteoroid Impact on MarsThe agency’s lander felt the ground shake during the impact while cameras aboard the Mars Reconnaissance Orbiter spotted the yawning new crater from space.\n",
      "October 27, 2022NASA's InSight Lander Detects Stunning Meteoroid Impact on MarsThe agency’s lander felt the ground shake during the impact while cameras aboard the Mars Reconnaissance Orbiter spotted the yawning new crater from space.\n",
      "October 27, 2022NASA's InSight Lander Detects Stunning Meteoroid Impact on MarsThe agency’s lander felt the ground shake during the impact while cameras aboard the Mars Reconnaissance Orbiter spotted the yawning new crater from space.\n",
      "October 27, 2022\n",
      "NASA's InSight Lander Detects Stunning Meteoroid Impact on Mars\n",
      "The agency’s lander felt the ground shake during the impact while cameras aboard the Mars Reconnaissance Orbiter spotted the yawning new crater from space.\n",
      "October 21, 2022NASA To Host Briefing on InSight, Mars Reconnaissance Orbiter FindingsScientists from two Mars missions will discuss how they combined images and data for a major finding on the Red Planet.\n",
      "October 21, 2022NASA To Host Briefing on InSight, Mars Reconnaissance Orbiter FindingsScientists from two Mars missions will discuss how they combined images and data for a major finding on the Red Planet.\n",
      "October 21, 2022NASA To Host Briefing on InSight, Mars Reconnaissance Orbiter FindingsScientists from two Mars missions will discuss how they combined images and data for a major finding on the Red Planet.\n",
      "October 21, 2022NASA To Host Briefing on InSight, Mars Reconnaissance Orbiter FindingsScientists from two Mars missions will discuss how they combined images and data for a major finding on the Red Planet.\n",
      "October 21, 2022\n",
      "NASA To Host Briefing on InSight, Mars Reconnaissance Orbiter Findings\n",
      "Scientists from two Mars missions will discuss how they combined images and data for a major finding on the Red Planet.\n",
      "October 20, 2022Why NASA Is Trying To Crash Land on MarsLike a car’s crumple zone, the experimental SHIELD lander is designed to absorb a hard impact.\n",
      "October 20, 2022Why NASA Is Trying To Crash Land on MarsLike a car’s crumple zone, the experimental SHIELD lander is designed to absorb a hard impact.\n",
      "October 20, 2022Why NASA Is Trying To Crash Land on MarsLike a car’s crumple zone, the experimental SHIELD lander is designed to absorb a hard impact.\n",
      "October 20, 2022Why NASA Is Trying To Crash Land on MarsLike a car’s crumple zone, the experimental SHIELD lander is designed to absorb a hard impact.\n",
      "October 20, 2022\n",
      "Why NASA Is Trying To Crash Land on Mars\n",
      "Like a car’s crumple zone, the experimental SHIELD lander is designed to absorb a hard impact.\n",
      "October 19, 2022Curiosity Mars Rover Reaches Long-Awaited Salty RegionAfter years of climbing, the Mars rover has arrived at a special region believed to have formed as Mars’ climate was drying.\n",
      "October 19, 2022Curiosity Mars Rover Reaches Long-Awaited Salty RegionAfter years of climbing, the Mars rover has arrived at a special region believed to have formed as Mars’ climate was drying.\n",
      "October 19, 2022Curiosity Mars Rover Reaches Long-Awaited Salty RegionAfter years of climbing, the Mars rover has arrived at a special region believed to have formed as Mars’ climate was drying.\n",
      "October 19, 2022Curiosity Mars Rover Reaches Long-Awaited Salty RegionAfter years of climbing, the Mars rover has arrived at a special region believed to have formed as Mars’ climate was drying.\n",
      "October 19, 2022\n",
      "Curiosity Mars Rover Reaches Long-Awaited Salty Region\n",
      "After years of climbing, the Mars rover has arrived at a special region believed to have formed as Mars’ climate was drying.\n",
      "October 12, 2022Mars Mission Shields Up for TestsProtecting Mars Sample Return spacecraft from micrometeorites requires high-caliber work.\n",
      "October 12, 2022Mars Mission Shields Up for TestsProtecting Mars Sample Return spacecraft from micrometeorites requires high-caliber work.\n",
      "October 12, 2022Mars Mission Shields Up for TestsProtecting Mars Sample Return spacecraft from micrometeorites requires high-caliber work.\n",
      "October 12, 2022Mars Mission Shields Up for TestsProtecting Mars Sample Return spacecraft from micrometeorites requires high-caliber work.\n",
      "October 12, 2022\n",
      "Mars Mission Shields Up for Tests\n",
      "Protecting Mars Sample Return spacecraft from micrometeorites requires high-caliber work.\n",
      "October 7, 2022NASA's InSight Waits Out Dust StormInSight’s team is taking steps to help the solar-powered lander continue operating for as long as possible.\n",
      "October 7, 2022NASA's InSight Waits Out Dust StormInSight’s team is taking steps to help the solar-powered lander continue operating for as long as possible.\n",
      "October 7, 2022NASA's InSight Waits Out Dust StormInSight’s team is taking steps to help the solar-powered lander continue operating for as long as possible.\n",
      "October 7, 2022NASA's InSight Waits Out Dust StormInSight’s team is taking steps to help the solar-powered lander continue operating for as long as possible.\n",
      "October 7, 2022\n",
      "NASA's InSight Waits Out Dust Storm\n",
      "InSight’s team is taking steps to help the solar-powered lander continue operating for as long as possible.\n",
      "September 19, 2022NASA's InSight 'Hears' Its First Meteoroid Impacts on MarsThe Mars lander’s seismometer has picked up vibrations from four separate impacts in the past two years.\n",
      "September 19, 2022NASA's InSight 'Hears' Its First Meteoroid Impacts on MarsThe Mars lander’s seismometer has picked up vibrations from four separate impacts in the past two years.\n",
      "September 19, 2022NASA's InSight 'Hears' Its First Meteoroid Impacts on MarsThe Mars lander’s seismometer has picked up vibrations from four separate impacts in the past two years.\n",
      "September 19, 2022NASA's InSight 'Hears' Its First Meteoroid Impacts on MarsThe Mars lander’s seismometer has picked up vibrations from four separate impacts in the past two years.\n",
      "September 19, 2022\n",
      "NASA's InSight 'Hears' Its First Meteoroid Impacts on Mars\n",
      "The Mars lander’s seismometer has picked up vibrations from four separate impacts in the past two years.\n",
      "September 15, 2022NASA's Perseverance Rover Investigates Geologically Rich Mars TerrainThe latest findings provide greater detail on a region of the Red Planet that has a watery past and is yielding promising samples for the NASA-ESA Mars Sample Return campaign.\n",
      "September 15, 2022NASA's Perseverance Rover Investigates Geologically Rich Mars TerrainThe latest findings provide greater detail on a region of the Red Planet that has a watery past and is yielding promising samples for the NASA-ESA Mars Sample Return campaign.\n",
      "September 15, 2022NASA's Perseverance Rover Investigates Geologically Rich Mars TerrainThe latest findings provide greater detail on a region of the Red Planet that has a watery past and is yielding promising samples for the NASA-ESA Mars Sample Return campaign.\n",
      "September 15, 2022NASA's Perseverance Rover Investigates Geologically Rich Mars TerrainThe latest findings provide greater detail on a region of the Red Planet that has a watery past and is yielding promising samples for the NASA-ESA Mars Sample Return campaign.\n",
      "September 15, 2022\n",
      "NASA's Perseverance Rover Investigates Geologically Rich Mars Terrain\n",
      "The latest findings provide greater detail on a region of the Red Planet that has a watery past and is yielding promising samples for the NASA-ESA Mars Sample Return campaign.\n",
      "September 12, 2022NASA to Host Briefing on Perseverance Mars Rover Mission OperationsMembers of the mission will discuss the rover’s activities as it gathers samples in an ancient river delta.\n",
      "September 12, 2022NASA to Host Briefing on Perseverance Mars Rover Mission OperationsMembers of the mission will discuss the rover’s activities as it gathers samples in an ancient river delta.\n",
      "September 12, 2022NASA to Host Briefing on Perseverance Mars Rover Mission OperationsMembers of the mission will discuss the rover’s activities as it gathers samples in an ancient river delta.\n",
      "September 12, 2022NASA to Host Briefing on Perseverance Mars Rover Mission OperationsMembers of the mission will discuss the rover’s activities as it gathers samples in an ancient river delta.\n",
      "September 12, 2022\n",
      "NASA to Host Briefing on Perseverance Mars Rover Mission Operations\n",
      "Members of the mission will discuss the rover’s activities as it gathers samples in an ancient river delta.\n",
      "August 25, 2022NASA's Perseverance Makes New Discoveries in Mars' Jezero CraterThe rover found that Jezero Crater’s floor is made up of volcanic rocks that have interacted with water.\n",
      "August 25, 2022NASA's Perseverance Makes New Discoveries in Mars' Jezero CraterThe rover found that Jezero Crater’s floor is made up of volcanic rocks that have interacted with water.\n",
      "August 25, 2022NASA's Perseverance Makes New Discoveries in Mars' Jezero CraterThe rover found that Jezero Crater’s floor is made up of volcanic rocks that have interacted with water.\n",
      "August 25, 2022NASA's Perseverance Makes New Discoveries in Mars' Jezero CraterThe rover found that Jezero Crater’s floor is made up of volcanic rocks that have interacted with water.\n",
      "August 25, 2022\n",
      "NASA's Perseverance Makes New Discoveries in Mars' Jezero Crater\n",
      "The rover found that Jezero Crater’s floor is made up of volcanic rocks that have interacted with water.\n",
      "August 5, 202210 Years Since Landing, NASA's Curiosity Mars Rover Still Has DriveDespite signs of wear, the intrepid spacecraft is about to start an exciting new chapter of its mission as it climbs a Martian mountain.\n",
      "August 5, 202210 Years Since Landing, NASA's Curiosity Mars Rover Still Has DriveDespite signs of wear, the intrepid spacecraft is about to start an exciting new chapter of its mission as it climbs a Martian mountain.\n",
      "August 5, 202210 Years Since Landing, NASA's Curiosity Mars Rover Still Has DriveDespite signs of wear, the intrepid spacecraft is about to start an exciting new chapter of its mission as it climbs a Martian mountain.\n",
      "August 5, 202210 Years Since Landing, NASA's Curiosity Mars Rover Still Has DriveDespite signs of wear, the intrepid spacecraft is about to start an exciting new chapter of its mission as it climbs a Martian mountain.\n",
      "August 5, 2022\n",
      "10 Years Since Landing, NASA's Curiosity Mars Rover Still Has Drive\n",
      "Despite signs of wear, the intrepid spacecraft is about to start an exciting new chapter of its mission as it climbs a Martian mountain.\n",
      "August 4, 2022SAM's Top 5 Discoveries Aboard NASA's Curiosity Rover at Mars“Selfie” of the Curiosity rover with inset showing the SAM instrument prior to installation on the rover.\n",
      "August 4, 2022SAM's Top 5 Discoveries Aboard NASA's Curiosity Rover at Mars“Selfie” of the Curiosity rover with inset showing the SAM instrument prior to installation on the rover.\n",
      "August 4, 2022SAM's Top 5 Discoveries Aboard NASA's Curiosity Rover at Mars“Selfie” of the Curiosity rover with inset showing the SAM instrument prior to installation on the rover.\n",
      "August 4, 2022SAM's Top 5 Discoveries Aboard NASA's Curiosity Rover at Mars“Selfie” of the Curiosity rover with inset showing the SAM instrument prior to installation on the rover.\n",
      "August 4, 2022\n",
      "SAM's Top 5 Discoveries Aboard NASA's Curiosity Rover at Mars\n",
      "“Selfie” of the Curiosity rover with inset showing the SAM instrument prior to installation on the rover.\n",
      "You Might Also LikeNASA Marks 25 Years Since Pathfinder Touched Down on MarsNASA's Perseverance Rover Captures Video of Solar Eclipse on MarsNASA, UAE Mars Missions Agree to Share Science Data\n",
      "You Might Also LikeNASA Marks 25 Years Since Pathfinder Touched Down on MarsNASA's Perseverance Rover Captures Video of Solar Eclipse on MarsNASA, UAE Mars Missions Agree to Share Science Data\n",
      "You Might Also Like\n",
      "You Might Also Like\n",
      "NASA Marks 25 Years Since Pathfinder Touched Down on MarsNASA's Perseverance Rover Captures Video of Solar Eclipse on MarsNASA, UAE Mars Missions Agree to Share Science Data\n",
      "NASA Marks 25 Years Since Pathfinder Touched Down on MarsNASA's Perseverance Rover Captures Video of Solar Eclipse on MarsNASA, UAE Mars Missions Agree to Share Science Data\n",
      "NASA Marks 25 Years Since Pathfinder Touched Down on MarsNASA's Perseverance Rover Captures Video of Solar Eclipse on MarsNASA, UAE Mars Missions Agree to Share Science Data\n",
      "NASA Marks 25 Years Since Pathfinder Touched Down on MarsNASA's Perseverance Rover Captures Video of Solar Eclipse on MarsNASA, UAE Mars Missions Agree to Share Science Data\n",
      "NASA Marks 25 Years Since Pathfinder Touched Down on MarsNASA's Perseverance Rover Captures Video of Solar Eclipse on MarsNASA, UAE Mars Missions Agree to Share Science Data\n",
      "NASA Marks 25 Years Since Pathfinder Touched Down on Mars\n",
      "NASA Marks 25 Years Since Pathfinder Touched Down on Mars\n",
      "NASA Marks 25 Years Since Pathfinder Touched Down on Mars\n",
      "NASA Marks 25 Years Since Pathfinder Touched Down on Mars\n",
      "NASA's Perseverance Rover Captures Video of Solar Eclipse on Mars\n",
      "NASA's Perseverance Rover Captures Video of Solar Eclipse on Mars\n",
      "NASA's Perseverance Rover Captures Video of Solar Eclipse on Mars\n",
      "NASA's Perseverance Rover Captures Video of Solar Eclipse on Mars\n",
      "NASA, UAE Mars Missions Agree to Share Science Data\n",
      "NASA, UAE Mars Missions Agree to Share Science Data\n",
      "NASA, UAE Mars Missions Agree to Share Science Data\n",
      "NASA, UAE Mars Missions Agree to Share Science Data\n",
      "The Red PlanetDashboardScience GoalsThe PlanetThe ProgramMission StatementAbout the ProgramOrganization Why Mars?MultimediaImagesVideosMore ResourcesMissionsPastPresentFuture\n",
      "The Red PlanetDashboardScience GoalsThe PlanetThe ProgramMission StatementAbout the ProgramOrganization Why Mars?MultimediaImagesVideosMore ResourcesMissionsPastPresentFuture\n",
      "The Red PlanetDashboardScience GoalsThe PlanetThe ProgramMission StatementAbout the ProgramOrganization Why Mars?MultimediaImagesVideosMore ResourcesMissionsPastPresentFuture\n",
      "The Red PlanetDashboardScience GoalsThe Planet\n",
      "The Red Planet\n",
      "Dashboard\n",
      "Science Goals\n",
      "The Planet\n",
      "The ProgramMission StatementAbout the ProgramOrganization Why Mars?\n",
      "The Program\n",
      "Mission Statement\n",
      "About the Program\n",
      "Organization Why Mars?\n",
      "MultimediaImagesVideosMore Resources\n",
      "Multimedia\n",
      "Images\n",
      "Videos\n",
      "More Resources\n",
      "MissionsPastPresentFuture\n",
      "Missions\n",
      "Past\n",
      "Present\n",
      "Future\n",
      "Images and news content extracted from NASA'sMars Newswebsite on November 9, 2022.Images used in accordance with theJPL Image Use Policy.\n",
      "Mars News\n",
      "JPL Image Use Policy\n",
      "This site is operated by edX Boot Camps LLC for educational purposes only.This is not a website endorsed by NASA. This website is intended only for internal academic purposes.\n"
     ]
    }
   ],
   "source": [
    "# Create an empty list to store all the cleaned text elements\n",
    "cleaned_text_elements = []\n",
    "\n",
    "# Find relevant elements containing text on the webpage\n",
    "relevant_elements = soup.find_all(['p', 'h1', 'h2', 'h3', 'h4', 'h5', 'h6', 'a', 'li', 'span', 'div'], recursive=True)\n",
    "\n",
    "# Loop through the relevant elements and concatenate their text content\n",
    "for element in relevant_elements:\n",
    "    text = element.get_text(strip=True)  # Get the text content and remove leading/trailing whitespace\n",
    "    if text:  # Check if the text is not empty\n",
    "        cleaned_text_elements.append(text)\n",
    "\n",
    "# Print the list of cleaned text elements\n",
    "for element in cleaned_text_elements:\n",
    "    print(element)"
   ]
  },
  {
   "cell_type": "markdown",
   "metadata": {},
   "source": [
    "### Step 3: Store the Results\n",
    "\n",
    "Extract the titles and preview text of the news articles that you scraped. Store the scraping results in Python data structures as follows:\n",
    "\n",
    "* Store each title-and-preview pair in a Python dictionary. And, give each dictionary two keys: `title` and `preview`. An example is the following:\n",
    "\n",
    "  ```python\n",
    "  {'title': \"NASA's MAVEN Observes Martian Light Show Caused by Major Solar Storm\", \n",
    "   'preview': \"For the first time in its eight years orbiting Mars, NASA’s MAVEN mission witnessed two different types of ultraviolet aurorae simultaneously, the result of solar storms that began on Aug. 27.\"\n",
    "  }\n",
    "  ```\n",
    "\n",
    "* Store all the dictionaries in a Python list.\n",
    "\n",
    "* Print the list in your notebook."
   ]
  },
  {
   "cell_type": "code",
   "execution_count": 16,
   "metadata": {
    "tags": []
   },
   "outputs": [],
   "source": [
    "# Create an empty list to store the dictionaries\n"
   ]
  },
  {
   "cell_type": "code",
   "execution_count": 17,
   "metadata": {
    "tags": []
   },
   "outputs": [],
   "source": [
    "# Create an empty list to store the dictionaries\n",
    "news_data = []\n"
   ]
  },
  {
   "cell_type": "code",
   "execution_count": 18,
   "metadata": {
    "tags": []
   },
   "outputs": [],
   "source": [
    "# Loop through the text elements\n",
    "# Extract the title and preview text from the elements\n",
    "# Store each title and preview pair in a dictionary\n",
    "# Add the dictionary to the list\n"
   ]
  },
  {
   "cell_type": "code",
   "execution_count": 21,
   "metadata": {
    "tags": []
   },
   "outputs": [],
   "source": [
    "\n",
    "for element in article_elements:\n",
    "    title_element = element.find(class_=\"content_title\")\n",
    "    preview_element = element.find(class_=\"article_teaser_body\")\n",
    "\n",
    "    # Check if both title and preview are found\n",
    "    if title_element and preview_element:\n",
    "        title = title_element.get_text(strip=True)\n",
    "        preview = preview_element.get_text(strip=True)\n",
    "        \n",
    "        # Create a dictionary for the title and preview and add it to the list\n",
    "        news_item = {\n",
    "            'title': title,\n",
    "            'preview': preview\n",
    "        }\n",
    "        news_data.append(news_item)\n"
   ]
  },
  {
   "cell_type": "code",
   "execution_count": 8,
   "metadata": {},
   "outputs": [
    {
     "data": {
      "text/plain": [
       "[{'title': \"NASA's MAVEN Observes Martian Light Show Caused by Major Solar Storm\",\n",
       "  'preview': 'For the first time in its eight years orbiting Mars, NASA’s MAVEN mission witnessed two different types of ultraviolet aurorae simultaneously, the result of solar storms that began on Aug. 27.'},\n",
       " {'title': \"NASA Prepares to Say 'Farewell' to InSight Spacecraft\",\n",
       "  'preview': 'A closer look at what goes into wrapping up the mission as the spacecraft’s power supply continues to dwindle.'},\n",
       " {'title': 'NASA and ESA Agree on Next Steps to Return Mars Samples to Earth',\n",
       "  'preview': 'The agency’s Perseverance rover will establish the first sample depot on Mars.'},\n",
       " {'title': \"NASA's InSight Lander Detects Stunning Meteoroid Impact on Mars\",\n",
       "  'preview': 'The agency’s lander felt the ground shake during the impact while cameras aboard the Mars Reconnaissance Orbiter spotted the yawning new crater from space.'},\n",
       " {'title': 'NASA To Host Briefing on InSight, Mars Reconnaissance Orbiter Findings',\n",
       "  'preview': 'Scientists from two Mars missions will discuss how they combined images and data for a major finding on the Red Planet.'},\n",
       " {'title': 'Why NASA Is Trying To Crash Land on Mars',\n",
       "  'preview': 'Like a car’s crumple zone, the experimental SHIELD lander is designed to absorb a hard impact.'},\n",
       " {'title': 'Curiosity Mars Rover Reaches Long-Awaited Salty Region',\n",
       "  'preview': 'After years of climbing, the Mars rover has arrived at a special region believed to have formed as Mars’ climate was drying.'},\n",
       " {'title': 'Mars Mission Shields Up for Tests',\n",
       "  'preview': 'Protecting Mars Sample Return spacecraft from micrometeorites requires high-caliber work.'},\n",
       " {'title': \"NASA's InSight Waits Out Dust Storm\",\n",
       "  'preview': 'InSight’s team is taking steps to help the solar-powered lander continue operating for as long as possible.'},\n",
       " {'title': \"NASA's InSight 'Hears' Its First Meteoroid Impacts on Mars\",\n",
       "  'preview': 'The Mars lander’s seismometer has picked up vibrations from four separate impacts in the past two years.'},\n",
       " {'title': \"NASA's Perseverance Rover Investigates Geologically Rich Mars Terrain\",\n",
       "  'preview': 'The latest findings provide greater detail on a region of the Red Planet that has a watery past and is yielding promising samples for the NASA-ESA Mars Sample Return campaign.'},\n",
       " {'title': 'NASA to Host Briefing on Perseverance Mars Rover Mission Operations',\n",
       "  'preview': 'Members of the mission will discuss the rover’s activities as it gathers samples in an ancient river delta.'},\n",
       " {'title': \"NASA's Perseverance Makes New Discoveries in Mars' Jezero Crater\",\n",
       "  'preview': 'The rover found that Jezero Crater’s floor is made up of volcanic rocks that have interacted with water.'},\n",
       " {'title': \"10 Years Since Landing, NASA's Curiosity Mars Rover Still Has Drive\",\n",
       "  'preview': 'Despite signs of wear, the intrepid spacecraft is about to start an exciting new chapter of its mission as it climbs a Martian mountain.'},\n",
       " {'title': \"SAM's Top 5 Discoveries Aboard NASA's Curiosity Rover at Mars\",\n",
       "  'preview': '“Selfie” of the Curiosity rover with inset showing the SAM instrument prior to installation on the rover.'}]"
      ]
     },
     "execution_count": 8,
     "metadata": {},
     "output_type": "execute_result"
    }
   ],
   "source": [
    "# Print the list to confirm success\n"
   ]
  },
  {
   "cell_type": "code",
   "execution_count": 22,
   "metadata": {
    "tags": []
   },
   "outputs": [
    {
     "name": "stdout",
     "output_type": "stream",
     "text": [
      "{'title': \"NASA's MAVEN Observes Martian Light Show Caused by Major Solar Storm\", 'preview': 'For the first time in its eight years orbiting Mars, NASA’s MAVEN mission witnessed two different types of ultraviolet aurorae simultaneously, the result of solar storms that began on Aug. 27.'}\n",
      "{'title': \"NASA Prepares to Say 'Farewell' to InSight Spacecraft\", 'preview': 'A closer look at what goes into wrapping up the mission as the spacecraft’s power supply continues to dwindle.'}\n",
      "{'title': 'NASA and ESA Agree on Next Steps to Return Mars Samples to Earth', 'preview': 'The agency’s Perseverance rover will establish the first sample depot on Mars.'}\n",
      "{'title': \"NASA's InSight Lander Detects Stunning Meteoroid Impact on Mars\", 'preview': 'The agency’s lander felt the ground shake during the impact while cameras aboard the Mars Reconnaissance Orbiter spotted the yawning new crater from space.'}\n",
      "{'title': 'NASA To Host Briefing on InSight, Mars Reconnaissance Orbiter Findings', 'preview': 'Scientists from two Mars missions will discuss how they combined images and data for a major finding on the Red Planet.'}\n",
      "{'title': 'Why NASA Is Trying To Crash Land on Mars', 'preview': 'Like a car’s crumple zone, the experimental SHIELD lander is designed to absorb a hard impact.'}\n",
      "{'title': 'Curiosity Mars Rover Reaches Long-Awaited Salty Region', 'preview': 'After years of climbing, the Mars rover has arrived at a special region believed to have formed as Mars’ climate was drying.'}\n",
      "{'title': 'Mars Mission Shields Up for Tests', 'preview': 'Protecting Mars Sample Return spacecraft from micrometeorites requires high-caliber work.'}\n",
      "{'title': \"NASA's InSight Waits Out Dust Storm\", 'preview': 'InSight’s team is taking steps to help the solar-powered lander continue operating for as long as possible.'}\n",
      "{'title': \"NASA's InSight 'Hears' Its First Meteoroid Impacts on Mars\", 'preview': 'The Mars lander’s seismometer has picked up vibrations from four separate impacts in the past two years.'}\n",
      "{'title': \"NASA's Perseverance Rover Investigates Geologically Rich Mars Terrain\", 'preview': 'The latest findings provide greater detail on a region of the Red Planet that has a watery past and is yielding promising samples for the NASA-ESA Mars Sample Return campaign.'}\n",
      "{'title': 'NASA to Host Briefing on Perseverance Mars Rover Mission Operations', 'preview': 'Members of the mission will discuss the rover’s activities as it gathers samples in an ancient river delta.'}\n",
      "{'title': \"NASA's Perseverance Makes New Discoveries in Mars' Jezero Crater\", 'preview': 'The rover found that Jezero Crater’s floor is made up of volcanic rocks that have interacted with water.'}\n",
      "{'title': \"10 Years Since Landing, NASA's Curiosity Mars Rover Still Has Drive\", 'preview': 'Despite signs of wear, the intrepid spacecraft is about to start an exciting new chapter of its mission as it climbs a Martian mountain.'}\n",
      "{'title': \"SAM's Top 5 Discoveries Aboard NASA's Curiosity Rover at Mars\", 'preview': '“Selfie” of the Curiosity rover with inset showing the SAM instrument prior to installation on the rover.'}\n",
      "{'title': \"NASA's MAVEN Observes Martian Light Show Caused by Major Solar Storm\", 'preview': 'For the first time in its eight years orbiting Mars, NASA’s MAVEN mission witnessed two different types of ultraviolet aurorae simultaneously, the result of solar storms that began on Aug. 27.'}\n",
      "{'title': \"NASA Prepares to Say 'Farewell' to InSight Spacecraft\", 'preview': 'A closer look at what goes into wrapping up the mission as the spacecraft’s power supply continues to dwindle.'}\n",
      "{'title': 'NASA and ESA Agree on Next Steps to Return Mars Samples to Earth', 'preview': 'The agency’s Perseverance rover will establish the first sample depot on Mars.'}\n",
      "{'title': \"NASA's InSight Lander Detects Stunning Meteoroid Impact on Mars\", 'preview': 'The agency’s lander felt the ground shake during the impact while cameras aboard the Mars Reconnaissance Orbiter spotted the yawning new crater from space.'}\n",
      "{'title': 'NASA To Host Briefing on InSight, Mars Reconnaissance Orbiter Findings', 'preview': 'Scientists from two Mars missions will discuss how they combined images and data for a major finding on the Red Planet.'}\n",
      "{'title': 'Why NASA Is Trying To Crash Land on Mars', 'preview': 'Like a car’s crumple zone, the experimental SHIELD lander is designed to absorb a hard impact.'}\n",
      "{'title': 'Curiosity Mars Rover Reaches Long-Awaited Salty Region', 'preview': 'After years of climbing, the Mars rover has arrived at a special region believed to have formed as Mars’ climate was drying.'}\n",
      "{'title': 'Mars Mission Shields Up for Tests', 'preview': 'Protecting Mars Sample Return spacecraft from micrometeorites requires high-caliber work.'}\n",
      "{'title': \"NASA's InSight Waits Out Dust Storm\", 'preview': 'InSight’s team is taking steps to help the solar-powered lander continue operating for as long as possible.'}\n",
      "{'title': \"NASA's InSight 'Hears' Its First Meteoroid Impacts on Mars\", 'preview': 'The Mars lander’s seismometer has picked up vibrations from four separate impacts in the past two years.'}\n",
      "{'title': \"NASA's Perseverance Rover Investigates Geologically Rich Mars Terrain\", 'preview': 'The latest findings provide greater detail on a region of the Red Planet that has a watery past and is yielding promising samples for the NASA-ESA Mars Sample Return campaign.'}\n",
      "{'title': 'NASA to Host Briefing on Perseverance Mars Rover Mission Operations', 'preview': 'Members of the mission will discuss the rover’s activities as it gathers samples in an ancient river delta.'}\n",
      "{'title': \"NASA's Perseverance Makes New Discoveries in Mars' Jezero Crater\", 'preview': 'The rover found that Jezero Crater’s floor is made up of volcanic rocks that have interacted with water.'}\n",
      "{'title': \"10 Years Since Landing, NASA's Curiosity Mars Rover Still Has Drive\", 'preview': 'Despite signs of wear, the intrepid spacecraft is about to start an exciting new chapter of its mission as it climbs a Martian mountain.'}\n",
      "{'title': \"SAM's Top 5 Discoveries Aboard NASA's Curiosity Rover at Mars\", 'preview': '“Selfie” of the Curiosity rover with inset showing the SAM instrument prior to installation on the rover.'}\n"
     ]
    }
   ],
   "source": [
    "# Print the list of dictionaries\n",
    "for item in news_data:\n",
    "    print(item)\n"
   ]
  },
  {
   "cell_type": "code",
   "execution_count": 23,
   "metadata": {
    "tags": []
   },
   "outputs": [
    {
     "name": "stdout",
     "output_type": "stream",
     "text": [
      "Scraped data has been saved to 'mars_news.json'\n"
     ]
    }
   ],
   "source": [
    "# Export the scraped data to a JSON file\n",
    "with open('mars_news.json', 'w') as json_file:\n",
    "    json.dump(news_data, json_file, indent=4)\n",
    "\n",
    "# Print a message to confirm that the data has been saved to the JSON file\n",
    "print(\"Scraped data has been saved to 'mars_news.json'\")"
   ]
  },
  {
   "cell_type": "code",
   "execution_count": 9,
   "metadata": {},
   "outputs": [],
   "source": [
    "browser.quit()"
   ]
  },
  {
   "cell_type": "code",
   "execution_count": null,
   "metadata": {},
   "outputs": [],
   "source": []
  }
 ],
 "metadata": {
  "kernelspec": {
   "display_name": "Python 3 (ipykernel)",
   "language": "python",
   "name": "python3"
  },
  "language_info": {
   "codemirror_mode": {
    "name": "ipython",
    "version": 3
   },
   "file_extension": ".py",
   "mimetype": "text/x-python",
   "name": "python",
   "nbconvert_exporter": "python",
   "pygments_lexer": "ipython3",
   "version": "3.11.3"
  },
  "vscode": {
   "interpreter": {
    "hash": "31f2aee4e71d21fbe5cf8b01ff0e069b9275f58929596ceb00d14d90e3e16cd6"
   }
  }
 },
 "nbformat": 4,
 "nbformat_minor": 4
}
